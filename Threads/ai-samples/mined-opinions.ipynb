{
 "cells": [
  {
   "cell_type": "markdown",
   "metadata": {},
   "source": [
    "## Análisis de Opiniones con Text Analytics\n",
    "By Fernanda Ochoa.\n",
    "\n",
    "El presente notebook, desarrolla un ejemplo de como utilizar la data extraída por ThreadsAPI con la implementación de ```getData.py``` y el notebook de limpieza de datos ```threads.ipynb``` para trabajarlo con los servicios cognitivos de Azure.\n",
    "\n",
    "[Azure Cognitive Services](https://learn.microsoft.com/es-MX/azure/cognitive-services/) es una plataforma basada en la nube que ofrece servicios de inteligencia artificial (IA). Estos servicios nos permiten integrar capacidades cognitivas en aplicaciones sin necesidad de tener conocimientos profundos de IA o ciencia de datos.\n",
    "\n",
    "\n",
    "#### Categorías de servicios cognitivos\n",
    "\n",
    "Los servicios cognitivos se pueden clasificar en cinco áreas principales:\n",
    "\n",
    "+ [Voz](https://learn.microsoft.com/es-MX/azure/cognitive-services/): \n",
    "  + Voz a texto\n",
    "  + Texto a voz\n",
    "  + Traducción de voz\n",
    "  + Reconocimiento de voz\n",
    "+ [Lenguaje](https://learn.microsoft.com/es-MX/azure/cognitive-services/):\n",
    "  + Reconocimiento de entidades\n",
    "  + Análisis de opiniones\n",
    "  + Respuestas a preguntas\n",
    "  + Reconocimiento de lenguaje conversacional\n",
    "  + Traductor\n",
    "+ [Visión](https://learn.microsoft.com/es-MX/azure/cognitive-services/):\n",
    "  + Análisis de Imágenes y Video\n",
    "  + Modelos personalizados\n",
    "+ [Decisión](https://learn.microsoft.com/es-MX/azure/cognitive-services/):\n",
    "  + Detector de anomalías\n",
    "  + Moderador de contenido\n",
    "  + Personalizer\n",
    "+ [Servicio Azure OpenAI](https://learn.microsoft.com/es-MX/azure/cognitive-services/openai/concepts/models):\n",
    "  + Dall E\n",
    "  + GPT-4\n",
    "  + GPT-3.5\n",
    "  + Incrustaciones"
   ]
  },
  {
   "cell_type": "markdown",
   "metadata": {},
   "source": [
    "#### Herramientas\n",
    "\n",
    "* Pandas\n",
    "    * Es una biblioteca considerada una extensión de Numpy para la manipulación y análisis de datos con Python.\n",
    "    * [Pandas Docs](https://pandas.pydata.org/)\n",
    "* Azure AI TextAnalytics:\n",
    "  * Es un servicio basado en la nube que proporciona funciones de procesamiento de lenguaje natural (NLP) para comprender y analizar texto.\n",
    "  * Es necesaria una suscripción de Azure para obtener las credenciales como ```APIKey``` y ```Url Endpoint```.\n",
    "  * [Azure AI TextAnalytics Docs](https://pypi.org/project/azure-ai-textanalytics/)\n",
    "* Dot env:\n",
    "  * Biblioteca para leer los pares clave-valor de un archivo .env y  establecerlos como variables de entorno. Ayuda en el desarrollo de aplicaciones siguiendo los principios de 12 factores.\n",
    "  * [Dot env Docs](https://pypi.org/project/python-dotenv/)\n",
    "\n",
    "#### Requisitos\n",
    "* Dataset: Conjunto de datos en csv con el que vamos a trabajar.\n",
    "  * Puedes encontrar un ejemplo en la carpeta: ```data``` en formato ```csv```.\n",
    "* Suscripción de Azure: Ingresar al [portal de azure](https://portal.azure.com), crear una suscripción, agregar una tarjeta (usamos la tarifa gratuita por lo que no hay costos) y listo.\n",
    "* [Activar suscripción](https://azure.microsoft.com/es-mx/free/)\n",
    "* Credenciales text analytics: \n",
    "  * Ingresar al [portal de azure](https://portal.azure.com)\n",
    "  * [Seguir el tutorial](https://learn.microsoft.com/es-mx/azure/cognitive-services/cognitive-services-apis-create-account?tabs=multiservice%2Canomaly-detector%2Clanguage-service%2Ccomputer-vision%2Cwindows)"
   ]
  },
  {
   "cell_type": "markdown",
   "metadata": {},
   "source": [
    "#### Instalamos las Bibliotecas\n",
    "\n",
    "* [Text analytics](https://pypi.org/project/azure-ai-textanalytics/):\n",
    "  * Visual Studio Code: ```%pip install azure-ai-textanalytics```\n",
    "  * Google Colab: ```!pip install azure-ai-textanalytics```\n",
    "* [Dot env](https://pypi.org/project/python-dotenv/): \n",
    "  * Visual Studio Code: ```%pip install python-dotenv```\n",
    "  * Google Colab: ```!pip install python-dotenv```"
   ]
  },
  {
   "cell_type": "markdown",
   "metadata": {},
   "source": [
    "#### Credenciales\n",
    "\n",
    "Una vez creados los servicios cognitivos en el [portal de azure](https://portal.azure.com). Se debe crear en la raíz del proyecto un archivo llamado ```.env```, este archivo de configuración, contiene las variables de entorno del proyecto, es decir las credenciales de acceso al API de los servicios cognitivos.\n",
    "\n",
    "``` Contenido de mi archivo .env\n",
    "API_KEY = 'Reemplazar por tus credenciales'\n",
    "API_ENDPOINT = 'Reemplazar por tus credenciales'\n",
    "API_REGION = 'Reemplazar por tus credenciales'\n",
    "```\n",
    "\n",
    "Recuerda crear el archivo: ```.gitignore``` y añadir tu archivo ```.env``` si planeas subirlo a un repositorio de git.\n",
    "\n",
    "``` Contenigo de mi archivo .gitignore\n",
    "# Ignorar archivo .env que puede contener información sensible\n",
    ".env\n",
    "```\n",
    "---"
   ]
  },
  {
   "cell_type": "markdown",
   "metadata": {},
   "source": [
    "#### Procedimiento"
   ]
  },
  {
   "cell_type": "code",
   "execution_count": 1,
   "metadata": {},
   "outputs": [
    {
     "name": "stdout",
     "output_type": "stream",
     "text": [
      "Defaulting to user installation because normal site-packages is not writeable\n",
      "Requirement already satisfied: azure-ai-textanalytics in /Users/fernandaochoa/Library/Python/3.9/lib/python/site-packages (5.3.0)\n",
      "Requirement already satisfied: azure-core<2.0.0,>=1.24.0 in /Users/fernandaochoa/Library/Python/3.9/lib/python/site-packages (from azure-ai-textanalytics) (1.28.0)\n",
      "Requirement already satisfied: azure-common~=1.1 in /Users/fernandaochoa/Library/Python/3.9/lib/python/site-packages (from azure-ai-textanalytics) (1.1.28)\n",
      "Requirement already satisfied: isodate<1.0.0,>=0.6.1 in /Users/fernandaochoa/Library/Python/3.9/lib/python/site-packages (from azure-ai-textanalytics) (0.6.1)\n",
      "Requirement already satisfied: typing-extensions>=4.0.1 in /Users/fernandaochoa/Library/Python/3.9/lib/python/site-packages (from azure-ai-textanalytics) (4.7.1)\n",
      "Requirement already satisfied: requests>=2.18.4 in /Users/fernandaochoa/Library/Python/3.9/lib/python/site-packages (from azure-core<2.0.0,>=1.24.0->azure-ai-textanalytics) (2.31.0)\n",
      "Requirement already satisfied: six>=1.11.0 in /Library/Developer/CommandLineTools/Library/Frameworks/Python3.framework/Versions/3.9/lib/python3.9/site-packages (from azure-core<2.0.0,>=1.24.0->azure-ai-textanalytics) (1.15.0)\n",
      "Requirement already satisfied: charset-normalizer<4,>=2 in /Users/fernandaochoa/Library/Python/3.9/lib/python/site-packages (from requests>=2.18.4->azure-core<2.0.0,>=1.24.0->azure-ai-textanalytics) (3.2.0)\n",
      "Requirement already satisfied: idna<4,>=2.5 in /Users/fernandaochoa/Library/Python/3.9/lib/python/site-packages (from requests>=2.18.4->azure-core<2.0.0,>=1.24.0->azure-ai-textanalytics) (3.4)\n",
      "Requirement already satisfied: urllib3<3,>=1.21.1 in /Users/fernandaochoa/Library/Python/3.9/lib/python/site-packages (from requests>=2.18.4->azure-core<2.0.0,>=1.24.0->azure-ai-textanalytics) (1.26.16)\n",
      "Requirement already satisfied: certifi>=2017.4.17 in /Users/fernandaochoa/Library/Python/3.9/lib/python/site-packages (from requests>=2.18.4->azure-core<2.0.0,>=1.24.0->azure-ai-textanalytics) (2023.5.7)\n",
      "Note: you may need to restart the kernel to use updated packages.\n"
     ]
    }
   ],
   "source": [
    "# Instalamos azure-ai-textanalytics\n",
    "%pip install azure-ai-textanalytics"
   ]
  },
  {
   "cell_type": "code",
   "execution_count": 2,
   "metadata": {},
   "outputs": [
    {
     "name": "stdout",
     "output_type": "stream",
     "text": [
      "Defaulting to user installation because normal site-packages is not writeable\n",
      "Requirement already satisfied: python-dotenv in /Users/fernandaochoa/Library/Python/3.9/lib/python/site-packages (1.0.0)\n",
      "Note: you may need to restart the kernel to use updated packages.\n"
     ]
    }
   ],
   "source": [
    "# Instalamos python-dotenv\n",
    "%pip install python-dotenv"
   ]
  },
  {
   "cell_type": "markdown",
   "metadata": {},
   "source": [
    "#### Importamos las bibliotecas y variables de entorno"
   ]
  },
  {
   "cell_type": "code",
   "execution_count": 3,
   "metadata": {},
   "outputs": [],
   "source": [
    "# Importamos las bibliotecas de Azure: Credentials y TextAnalyticsClient\n",
    "# Importamos la biblioteca pandas para trabajar con los datos\n",
    "import os\n",
    "import pandas as pd\n",
    "from azure.core.credentials import AzureKeyCredential\n",
    "from azure.ai.textanalytics import TextAnalyticsClient"
   ]
  },
  {
   "cell_type": "code",
   "execution_count": 4,
   "metadata": {},
   "outputs": [
    {
     "data": {
      "text/plain": [
       "True"
      ]
     },
     "execution_count": 4,
     "metadata": {},
     "output_type": "execute_result"
    }
   ],
   "source": [
    "# Para importar las variables de entorno\n",
    "from dotenv import load_dotenv\n",
    "load_dotenv()"
   ]
  },
  {
   "cell_type": "code",
   "execution_count": 5,
   "metadata": {},
   "outputs": [],
   "source": [
    "# Importamos nuestro csv con la data\n",
    "data = pd.read_csv('../data/cleanData.csv')"
   ]
  },
  {
   "cell_type": "code",
   "execution_count": 6,
   "metadata": {},
   "outputs": [],
   "source": [
    "# Definimos las credenciales del API\n",
    "endpoint = os.getenv('API_ENDPOINT')\n",
    "apiKey = os.getenv('API_KEY')"
   ]
  },
  {
   "cell_type": "code",
   "execution_count": 7,
   "metadata": {},
   "outputs": [],
   "source": [
    "# Autenticamos el cliente\n",
    "client = TextAnalyticsClient(endpoint=endpoint, credential=AzureKeyCredential(apiKey))"
   ]
  },
  {
   "cell_type": "code",
   "execution_count": 8,
   "metadata": {},
   "outputs": [],
   "source": [
    "# Estructuramos el dataframe con las columnas de interés: Text y Likes\n",
    "data.columns = ['Thread', 'Likes']"
   ]
  },
  {
   "cell_type": "code",
   "execution_count": 9,
   "metadata": {},
   "outputs": [],
   "source": [
    "# Convertimos el dataframe a una lista \n",
    "threads = data['Thread'].tolist()"
   ]
  },
  {
   "cell_type": "code",
   "execution_count": 10,
   "metadata": {},
   "outputs": [
    {
     "name": "stdout",
     "output_type": "stream",
     "text": [
      "['Amanecimos con buenas noticias 💪🏽Ya podemos establecer un pipeline de mejora continua. Quizá para fin de año estrenemos revamp en las apps ⚡️', 'Listo, ya solo documento algunos ejemplos con hilos y con funciones asíncronas. Igual un par con Azure OpenAI Services y algunos con Azure Cognitive Services 💅🏼Voy por tacos mientras, ¿En que andan?, ¿Qué se les ocurre que hagamos?', 'Ya les ando preparando el repo para que puedan procesar todos los posts de Threads con Pandas, aunque no será posible que lo corran en in Jupiter Notebook por las llamadas asíncronas.', '¿Cómo va su sábado?, ¿Ya tomaron café?', 'Si llego a mil seguidores el fin les explico cómo hacerlo en Python. No todo el código es mío (Como todo en la programación) pero cuenten con la súper explicación y todo digerible para procesar los datos con pandas.', 'La verdad si se agradece una red social sin hate y sin anuncios 🏽', 'Yo Me queda 1 x 100 🎶Mi jefa Pues ponlo a cargar 🔌😂', 'Empieza mi fin de semana con lluvia, el maratón de Harry Potter y mi café con pan. A esto le llamo felicidad ✨', 'Estaba muy tranquila tomando mi café con mi panecito, mientras revisaba los detalles de mi siguiente reunión…PRESENCIAL en OTRO ESTADO a 6 HORAS ', 'Hija, ¿Qué es eso de threads?- Un virus ma, no lo instales', 'Según yo, ya me iba a levantar y terminé viendo tenis y comprándome 2 pares ', 'Viernes ✨Hoy tengo 3 reuniones, revisión de avances y evaluar un endpoint. Cuéntenme, ¿En qué andan?, ¿Ya tomaron café?', 'Descansen, no se les olvide parpadear y tomar agüita.', 'Si preferimos a los originales en lugar de los chistines, perdón. #TeamInfierno', 'Threads', '3 likes y les contestó lo que quieran (Max. 10 preguntas)', 'Les deseo todo el amor bonito que Python le trajo al Desarrollo de Software, Data e IA', 'Nos hace falta - Los # - Las encuestas- Los spaces Los gurús que todo te quieren vender no importa la plataforma', 'Ay chóquenlas, yo también 🤜🏽🤛🏽RRHH si ven esto no es cierto, bueno sí 🙈', 'Ya no sé si son sus nuevas personalidades o sus momentos más esquizofrénicos del día 😂', 'Tomaron lo mejor de Tiktok, agregaron lo que mejor funcionaba de Twitter con la audiencia de Instagram 🤯', 'A ver 👀, su cara de desvelados ']\n"
     ]
    }
   ],
   "source": [
    "# Comprobamos que la lista tiene contenido\n",
    "print(threads)"
   ]
  },
  {
   "cell_type": "code",
   "execution_count": 11,
   "metadata": {},
   "outputs": [],
   "source": [
    "# Definimos una lista para almacenar las opiniones minadas\n",
    "mined_opinions = []"
   ]
  },
  {
   "cell_type": "code",
   "execution_count": 12,
   "metadata": {},
   "outputs": [],
   "source": [
    "# Procesamos los threads en lotes de 10 (límite de la API)\n",
    "for i in range(0, len(threads), 10):\n",
    "    batch = threads[i : i + 10]\n",
    "    result = client.analyze_sentiment(batch, show_opinion_mining=True)\n",
    "    docs = [doc for doc in result if not doc.is_error]\n",
    "\n",
    "    for idx, doc in enumerate(docs):\n",
    "         \n",
    "        opinions = []\n",
    "        for sentence in doc.sentences:\n",
    "            for mined_opinion in sentence.mined_opinions:\n",
    "                opinions.append({\n",
    "                    'Target': mined_opinion.target.text,\n",
    "                    'Assessments': [assessment.text for assessment in mined_opinion.assessments]\n",
    "                })\n",
    "        mined_opinions.append(opinions if opinions else ['Ninguna opninion minada'])\n"
   ]
  },
  {
   "cell_type": "code",
   "execution_count": 13,
   "metadata": {},
   "outputs": [],
   "source": [
    "# Agregamos una columna al dataframe con las opiniones minadas\n",
    "data['Mined Opinions'] = mined_opinions"
   ]
  },
  {
   "cell_type": "code",
   "execution_count": 14,
   "metadata": {},
   "outputs": [
    {
     "data": {
      "text/html": [
       "<div>\n",
       "<style scoped>\n",
       "    .dataframe tbody tr th:only-of-type {\n",
       "        vertical-align: middle;\n",
       "    }\n",
       "\n",
       "    .dataframe tbody tr th {\n",
       "        vertical-align: top;\n",
       "    }\n",
       "\n",
       "    .dataframe thead th {\n",
       "        text-align: right;\n",
       "    }\n",
       "</style>\n",
       "<table border=\"1\" class=\"dataframe\">\n",
       "  <thead>\n",
       "    <tr style=\"text-align: right;\">\n",
       "      <th></th>\n",
       "      <th>Thread</th>\n",
       "      <th>Likes</th>\n",
       "      <th>Mined Opinions</th>\n",
       "    </tr>\n",
       "  </thead>\n",
       "  <tbody>\n",
       "    <tr>\n",
       "      <th>0</th>\n",
       "      <td>Amanecimos con buenas noticias 💪🏽Ya podemos es...</td>\n",
       "      <td>14</td>\n",
       "      <td>[Ninguna opninion minada]</td>\n",
       "    </tr>\n",
       "    <tr>\n",
       "      <th>1</th>\n",
       "      <td>Listo, ya solo documento algunos ejemplos con ...</td>\n",
       "      <td>33</td>\n",
       "      <td>[Ninguna opninion minada]</td>\n",
       "    </tr>\n",
       "    <tr>\n",
       "      <th>2</th>\n",
       "      <td>Ya les ando preparando el repo para que puedan...</td>\n",
       "      <td>11</td>\n",
       "      <td>[Ninguna opninion minada]</td>\n",
       "    </tr>\n",
       "    <tr>\n",
       "      <th>3</th>\n",
       "      <td>¿Cómo va su sábado?, ¿Ya tomaron café?</td>\n",
       "      <td>15</td>\n",
       "      <td>[Ninguna opninion minada]</td>\n",
       "    </tr>\n",
       "    <tr>\n",
       "      <th>4</th>\n",
       "      <td>Si llego a mil seguidores el fin les explico c...</td>\n",
       "      <td>31</td>\n",
       "      <td>[{'Target': 'explicación', 'Assessments': ['sú...</td>\n",
       "    </tr>\n",
       "  </tbody>\n",
       "</table>\n",
       "</div>"
      ],
      "text/plain": [
       "                                              Thread  Likes  \\\n",
       "0  Amanecimos con buenas noticias 💪🏽Ya podemos es...     14   \n",
       "1  Listo, ya solo documento algunos ejemplos con ...     33   \n",
       "2  Ya les ando preparando el repo para que puedan...     11   \n",
       "3             ¿Cómo va su sábado?, ¿Ya tomaron café?     15   \n",
       "4  Si llego a mil seguidores el fin les explico c...     31   \n",
       "\n",
       "                                      Mined Opinions  \n",
       "0                          [Ninguna opninion minada]  \n",
       "1                          [Ninguna opninion minada]  \n",
       "2                          [Ninguna opninion minada]  \n",
       "3                          [Ninguna opninion minada]  \n",
       "4  [{'Target': 'explicación', 'Assessments': ['sú...  "
      ]
     },
     "execution_count": 14,
     "metadata": {},
     "output_type": "execute_result"
    }
   ],
   "source": [
    "# Comprobamos que el dataframe tiene la nueva columna\n",
    "data.head()"
   ]
  },
  {
   "cell_type": "code",
   "execution_count": 15,
   "metadata": {},
   "outputs": [
    {
     "name": "stdout",
     "output_type": "stream",
     "text": [
      "0                            [Ninguna opninion minada]\n",
      "1                            [Ninguna opninion minada]\n",
      "2                            [Ninguna opninion minada]\n",
      "3                            [Ninguna opninion minada]\n",
      "4    [{'Target': 'explicación', 'Assessments': ['sú...\n",
      "Name: Mined Opinions, dtype: object\n"
     ]
    }
   ],
   "source": [
    "# Exploramos la nueva columna y evaluamos si es necesario limpiarla\n",
    "print(data['Mined Opinions'].head())"
   ]
  },
  {
   "cell_type": "markdown",
   "metadata": {},
   "source": [
    "#### Procedimiento de formato de datos"
   ]
  },
  {
   "cell_type": "code",
   "execution_count": 16,
   "metadata": {},
   "outputs": [
    {
     "name": "stdout",
     "output_type": "stream",
     "text": [
      "Mined Opinions\n",
      "<class 'list'>    22\n",
      "Name: count, dtype: int64\n"
     ]
    }
   ],
   "source": [
    "# Verificar el tipo de dato de la columna\n",
    "print(data['Mined Opinions'].apply(type).value_counts())"
   ]
  },
  {
   "cell_type": "markdown",
   "metadata": {},
   "source": [
    "Al ser una lista que contiene cadenas y diccionarios, es necesario procesarla y formatearla para que sea legible."
   ]
  },
  {
   "cell_type": "code",
   "execution_count": 17,
   "metadata": {},
   "outputs": [],
   "source": [
    "# Función para convertir diccionarios o cadenas a strings\n",
    "def dict_or_string_to_string(item):\n",
    "    if isinstance(item, dict):\n",
    "        return ' | '.join([f\"{k}: {v}\" for k, v in item.items()])\n",
    "    else:\n",
    "        return item"
   ]
  },
  {
   "cell_type": "markdown",
   "metadata": {},
   "source": [
    "El siguiente paso, es algo complicado de leer por lo que explico a detalle:\n",
    "\n",
    "+ df['Mined Opinions'].apply(...):\n",
    "  + La función apply() se utiliza para aplicar una función a lo largo de un eje del DataFrame. En este caso, estamos aplicando una función a cada elemento de la columna 'Mined Opinions' de nuestro DataFrame.\n",
    "+ lambda x: ...: \n",
    "  + Aquí defino una función anónima (también conocida como función lambda) que toma un argumento x (en este caso, cada elemento individual de la columna 'Mined Opinions') y luego realiza una operación con ese argumento.\n",
    "+ ' '.join(...): \n",
    "  + Este es un método de una cadena en Python que une una lista de cadenas en una única cadena. El carácter o cadena que llama a este método (en este caso, ' ') se inserta entre cada cadena en la lista. Así que si tienes ['a', 'b', 'c'] y haces ''.join(['a', 'b', 'c']), obtendrás 'a b c'.\n",
    "+ [dict_or_string_to_string(opinion) for opinion in x]: \n",
    "  + Este es un list comprehension en Python. En esencia, lo que está haciendo es tomar cada 'opinión' en la lista x y aplicarle la función dict_or_string_to_string(). Entonces, obtenemos una nueva lista que contiene el resultado de aplicar dict_or_string_to_string() a cada opinión en x."
   ]
  },
  {
   "cell_type": "code",
   "execution_count": 18,
   "metadata": {},
   "outputs": [],
   "source": [
    "# Convertir cada diccionario en una cadena y unir todas las cadenas en cada lista de 'Mined Opinions'\n",
    "data['Mined Opinions'] = data['Mined Opinions'].apply(lambda x: ' '.join([dict_or_string_to_string(opinion) for opinion in x]))"
   ]
  },
  {
   "cell_type": "code",
   "execution_count": 21,
   "metadata": {},
   "outputs": [
    {
     "data": {
      "text/html": [
       "<div>\n",
       "<style scoped>\n",
       "    .dataframe tbody tr th:only-of-type {\n",
       "        vertical-align: middle;\n",
       "    }\n",
       "\n",
       "    .dataframe tbody tr th {\n",
       "        vertical-align: top;\n",
       "    }\n",
       "\n",
       "    .dataframe thead th {\n",
       "        text-align: right;\n",
       "    }\n",
       "</style>\n",
       "<table border=\"1\" class=\"dataframe\">\n",
       "  <thead>\n",
       "    <tr style=\"text-align: right;\">\n",
       "      <th></th>\n",
       "      <th>Thread</th>\n",
       "      <th>Likes</th>\n",
       "      <th>Mined Opinions</th>\n",
       "    </tr>\n",
       "  </thead>\n",
       "  <tbody>\n",
       "    <tr>\n",
       "      <th>0</th>\n",
       "      <td>Amanecimos con buenas noticias 💪🏽Ya podemos es...</td>\n",
       "      <td>14</td>\n",
       "      <td>Ninguna opninion minada</td>\n",
       "    </tr>\n",
       "    <tr>\n",
       "      <th>1</th>\n",
       "      <td>Listo, ya solo documento algunos ejemplos con ...</td>\n",
       "      <td>33</td>\n",
       "      <td>Ninguna opninion minada</td>\n",
       "    </tr>\n",
       "    <tr>\n",
       "      <th>2</th>\n",
       "      <td>Ya les ando preparando el repo para que puedan...</td>\n",
       "      <td>11</td>\n",
       "      <td>Ninguna opninion minada</td>\n",
       "    </tr>\n",
       "    <tr>\n",
       "      <th>3</th>\n",
       "      <td>¿Cómo va su sábado?, ¿Ya tomaron café?</td>\n",
       "      <td>15</td>\n",
       "      <td>Ninguna opninion minada</td>\n",
       "    </tr>\n",
       "    <tr>\n",
       "      <th>4</th>\n",
       "      <td>Si llego a mil seguidores el fin les explico c...</td>\n",
       "      <td>31</td>\n",
       "      <td>Target: explicación | Assessments: ['súper']</td>\n",
       "    </tr>\n",
       "  </tbody>\n",
       "</table>\n",
       "</div>"
      ],
      "text/plain": [
       "                                              Thread  Likes  \\\n",
       "0  Amanecimos con buenas noticias 💪🏽Ya podemos es...     14   \n",
       "1  Listo, ya solo documento algunos ejemplos con ...     33   \n",
       "2  Ya les ando preparando el repo para que puedan...     11   \n",
       "3             ¿Cómo va su sábado?, ¿Ya tomaron café?     15   \n",
       "4  Si llego a mil seguidores el fin les explico c...     31   \n",
       "\n",
       "                                 Mined Opinions  \n",
       "0                       Ninguna opninion minada  \n",
       "1                       Ninguna opninion minada  \n",
       "2                       Ninguna opninion minada  \n",
       "3                       Ninguna opninion minada  \n",
       "4  Target: explicación | Assessments: ['súper']  "
      ]
     },
     "execution_count": 21,
     "metadata": {},
     "output_type": "execute_result"
    }
   ],
   "source": [
    "data.head(5)"
   ]
  },
  {
   "cell_type": "markdown",
   "metadata": {},
   "source": [
    "Si así lo deseamos, podemos exportarlo a un csv, complementarlo con más api's, etc."
   ]
  },
  {
   "cell_type": "markdown",
   "metadata": {},
   "source": [
    "Threads API: Análisis de Opiniones con Azure y Threads API\n",
    "\n",
    "Material desarrollado por: Fernanda Ochoa.\n",
    "\n",
    "Contacto:\n",
    "* GitHub: [FernandaOchoa](https://github.com/FernandaOchoa)\n",
    "* Twitter: [@imonsh](https://twitter.com/imonsh)\n",
    "* Instagram: [fherz8a](https://instagram.com/fherz8a)\n",
    "* Linkedin: [Fernanda Ochoa](https://www.linkedin.com/in/fernandaochoa8/)"
   ]
  }
 ],
 "metadata": {
  "kernelspec": {
   "display_name": "Python 3",
   "language": "python",
   "name": "python3"
  },
  "language_info": {
   "codemirror_mode": {
    "name": "ipython",
    "version": 3
   },
   "file_extension": ".py",
   "mimetype": "text/x-python",
   "name": "python",
   "nbconvert_exporter": "python",
   "pygments_lexer": "ipython3",
   "version": "3.9.6"
  },
  "orig_nbformat": 4
 },
 "nbformat": 4,
 "nbformat_minor": 2
}
