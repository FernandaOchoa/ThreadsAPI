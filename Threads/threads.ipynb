{
 "cells": [
  {
   "cell_type": "markdown",
   "metadata": {},
   "source": [
    "## Threads data analysis with python\n",
    "\n",
    "#### Instalamos las bibliotecas\n",
    "* [Pandas](https://pandas.pydata.org): \n",
    "  * En VSCode: ```%pip install pandas```\n",
    "  * En Colab: ```!pip install pandas```\n",
    "  * Versiones distintas de python: ```pip3 install pandas```\n",
    "\n",
    "#### Importamos las bibliotecas\n",
    "\n",
    "* [Pandas](https://pandas.pydata.org): Pandas es una herramienta de análisis y manipulación de datos de código abierto rápida, potente, flexible y fácil de usar, construida sobre el lenguaje de programación Python."
   ]
  },
  {
   "cell_type": "markdown",
   "metadata": {},
   "source": [
    "#### Procedimiento\n",
    "\n",
    "##### Exploración\n",
    "\n",
    "Comenzaremos por explorar un poco el archivo csv ```data``` generado por la clase ```getData.py```.\n",
    "\n",
    "###### Pasos a realizar:\n",
    "\n",
    "* Importar las bibliotecas\n",
    "* Importar el archivo csv\n",
    "* Almacenar el contenido del csv en un dataframe\n",
    "* Estructurar el dataframe con las columnas de interés ```Text``` y ```Likes```"
   ]
  },
  {
   "cell_type": "code",
   "execution_count": 1,
   "metadata": {},
   "outputs": [],
   "source": [
    "# Importamos la biblioteca pandas\n",
    "import pandas as pd"
   ]
  },
  {
   "cell_type": "code",
   "execution_count": 2,
   "metadata": {},
   "outputs": [],
   "source": [
    "# Leemos la data generada desde un csv y la almacenamos en el dataframe df\n",
    "df = pd.read_csv('./data/data.csv')"
   ]
  },
  {
   "cell_type": "code",
   "execution_count": 3,
   "metadata": {},
   "outputs": [],
   "source": [
    "# Estructuramos el dataframe con las columnas de interés: Text y Likes\n",
    "df.columns = ['Text', 'Likes']"
   ]
  },
  {
   "cell_type": "code",
   "execution_count": 4,
   "metadata": {},
   "outputs": [
    {
     "data": {
      "text/html": [
       "<div>\n",
       "<style scoped>\n",
       "    .dataframe tbody tr th:only-of-type {\n",
       "        vertical-align: middle;\n",
       "    }\n",
       "\n",
       "    .dataframe tbody tr th {\n",
       "        vertical-align: top;\n",
       "    }\n",
       "\n",
       "    .dataframe thead th {\n",
       "        text-align: right;\n",
       "    }\n",
       "</style>\n",
       "<table border=\"1\" class=\"dataframe\">\n",
       "  <thead>\n",
       "    <tr style=\"text-align: right;\">\n",
       "      <th></th>\n",
       "      <th>Text</th>\n",
       "      <th>Likes</th>\n",
       "    </tr>\n",
       "  </thead>\n",
       "  <tbody>\n",
       "    <tr>\n",
       "      <th>0</th>\n",
       "      <td>Que sea un gran Martes, hoy reviso los perfile...</td>\n",
       "      <td>15</td>\n",
       "    </tr>\n",
       "    <tr>\n",
       "      <th>1</th>\n",
       "      <td>Amanecimos con buenas noticias 💪🏽Ya podemos es...</td>\n",
       "      <td>14</td>\n",
       "    </tr>\n",
       "    <tr>\n",
       "      <th>2</th>\n",
       "      <td>Listo, ya solo documento algunos ejemplos con ...</td>\n",
       "      <td>33</td>\n",
       "    </tr>\n",
       "    <tr>\n",
       "      <th>3</th>\n",
       "      <td>Ya les ando preparando el repo para que puedan...</td>\n",
       "      <td>11</td>\n",
       "    </tr>\n",
       "  </tbody>\n",
       "</table>\n",
       "</div>"
      ],
      "text/plain": [
       "                                                Text  Likes\n",
       "0  Que sea un gran Martes, hoy reviso los perfile...     15\n",
       "1  Amanecimos con buenas noticias 💪🏽Ya podemos es...     14\n",
       "2  Listo, ya solo documento algunos ejemplos con ...     33\n",
       "3  Ya les ando preparando el repo para que puedan...     11"
      ]
     },
     "execution_count": 4,
     "metadata": {},
     "output_type": "execute_result"
    }
   ],
   "source": [
    "# Mostramos las primeras 4 filas del dataframe\n",
    "df.head(4)"
   ]
  },
  {
   "cell_type": "markdown",
   "metadata": {},
   "source": [
    "Como podemos observar nuestra columna ```Text``` del dataframe, aún con el procesamiento de limpieza de datos en la implementación de ```getData.py``` presenta algunos detalles como:\n",
    "\n",
    "* Valores nulos\n",
    "* Saltos de línea | Retornos de carro \n",
    "* Comillas simples o dobles\n",
    "\n",
    "Recordando que las necesidades pueden variar según el tipo de texto que se procesa. \n",
    "\n",
    "Procedemos entonces al siguiente paso."
   ]
  },
  {
   "cell_type": "markdown",
   "metadata": {},
   "source": [
    "#### Ciencia de Datos\n",
    "Realizaremos un pequeño ajuste en los datos, este proceso puede variar según el tipo de texto que vamos a procesar. Puedes considerar urls, emojis, caracteres especiales. Si bien el script ```getData.py``` y este notebook consideran algunos casos, puede variar el proceso en función del tipo de caracteres incluidos en el texto a procesar.\n",
    "\n",
    "##### Pasos a realizar\n",
    "Varia en función del tipo de contenido a procesar, aquí algunos casos:\n",
    "\n",
    "* Eliminamos los valores nulos del dataframe\n",
    "* Comprobamos\n",
    "* Verificamos que la columna Text sea de tipo string\n",
    "* Eliminamos caracteres especiales que pudieran haber resultado\n",
    "  * \\n\n",
    "  * \"\n",
    "  * '\n",
    "  * \\U0001fae0 y \\U0001faf6 <- Correspondiente a emojis no compatibles\n",
    "* Por último exportamos a csv (si así lo desean) el nuevo archivo con la data lista para procesarla con AI"
   ]
  },
  {
   "cell_type": "code",
   "execution_count": 5,
   "metadata": {},
   "outputs": [],
   "source": [
    "# Eliminamos los valores nulos del dataframe\n",
    "df = df.dropna()"
   ]
  },
  {
   "cell_type": "code",
   "execution_count": 6,
   "metadata": {},
   "outputs": [
    {
     "data": {
      "text/html": [
       "<div>\n",
       "<style scoped>\n",
       "    .dataframe tbody tr th:only-of-type {\n",
       "        vertical-align: middle;\n",
       "    }\n",
       "\n",
       "    .dataframe tbody tr th {\n",
       "        vertical-align: top;\n",
       "    }\n",
       "\n",
       "    .dataframe thead th {\n",
       "        text-align: right;\n",
       "    }\n",
       "</style>\n",
       "<table border=\"1\" class=\"dataframe\">\n",
       "  <thead>\n",
       "    <tr style=\"text-align: right;\">\n",
       "      <th></th>\n",
       "      <th>Text</th>\n",
       "      <th>Likes</th>\n",
       "    </tr>\n",
       "  </thead>\n",
       "  <tbody>\n",
       "    <tr>\n",
       "      <th>0</th>\n",
       "      <td>Que sea un gran Martes, hoy reviso los perfile...</td>\n",
       "      <td>15</td>\n",
       "    </tr>\n",
       "    <tr>\n",
       "      <th>1</th>\n",
       "      <td>Amanecimos con buenas noticias 💪🏽Ya podemos es...</td>\n",
       "      <td>14</td>\n",
       "    </tr>\n",
       "    <tr>\n",
       "      <th>2</th>\n",
       "      <td>Listo, ya solo documento algunos ejemplos con ...</td>\n",
       "      <td>33</td>\n",
       "    </tr>\n",
       "    <tr>\n",
       "      <th>3</th>\n",
       "      <td>Ya les ando preparando el repo para que puedan...</td>\n",
       "      <td>11</td>\n",
       "    </tr>\n",
       "  </tbody>\n",
       "</table>\n",
       "</div>"
      ],
      "text/plain": [
       "                                                Text  Likes\n",
       "0  Que sea un gran Martes, hoy reviso los perfile...     15\n",
       "1  Amanecimos con buenas noticias 💪🏽Ya podemos es...     14\n",
       "2  Listo, ya solo documento algunos ejemplos con ...     33\n",
       "3  Ya les ando preparando el repo para que puedan...     11"
      ]
     },
     "execution_count": 6,
     "metadata": {},
     "output_type": "execute_result"
    }
   ],
   "source": [
    "# Mostramos el contenido del dataframe después del dropna\n",
    "df.head(4)"
   ]
  },
  {
   "cell_type": "code",
   "execution_count": 7,
   "metadata": {},
   "outputs": [],
   "source": [
    "# Eliminamos la cadena \\n\n",
    "df['Text'] = df['Text'].replace('\\\\\\\\n', '', regex=True)"
   ]
  },
  {
   "cell_type": "code",
   "execution_count": 8,
   "metadata": {},
   "outputs": [],
   "source": [
    "# Eliminamos comillas dobles y simples\n",
    "df['Text'] = df['Text'].str.replace('\\\"', '')\n",
    "df['Text'] = df['Text'].str.replace('\\'', '')"
   ]
  },
  {
   "cell_type": "code",
   "execution_count": 9,
   "metadata": {},
   "outputs": [
    {
     "data": {
      "text/plain": [
       "0    Que sea un gran Martes, hoy reviso los perfile...\n",
       "1    Amanecimos con buenas noticias 💪🏽Ya podemos es...\n",
       "2    Listo, ya solo documento algunos ejemplos con ...\n",
       "Name: Text, dtype: object"
      ]
     },
     "execution_count": 9,
     "metadata": {},
     "output_type": "execute_result"
    }
   ],
   "source": [
    "# Mostramos sólo la columna Text del dataframe\n",
    "df['Text'].head(3)"
   ]
  },
  {
   "cell_type": "code",
   "execution_count": 10,
   "metadata": {},
   "outputs": [],
   "source": [
    "# Eliminamos la cadena \\\\U0001fae0 con regex\n",
    "df['Text'] = df['Text'].str.replace('\\\\\\\\U0001fae0', '', regex=True)"
   ]
  },
  {
   "cell_type": "code",
   "execution_count": 11,
   "metadata": {},
   "outputs": [],
   "source": [
    "# Eliminamos la cadena \\\\U0001fae1 con regex\n",
    "df['Text'] = df['Text'].str.replace('\\\\\\\\U0001faf6', '', regex=True)\n"
   ]
  },
  {
   "cell_type": "code",
   "execution_count": 12,
   "metadata": {},
   "outputs": [
    {
     "data": {
      "text/html": [
       "<div>\n",
       "<style scoped>\n",
       "    .dataframe tbody tr th:only-of-type {\n",
       "        vertical-align: middle;\n",
       "    }\n",
       "\n",
       "    .dataframe tbody tr th {\n",
       "        vertical-align: top;\n",
       "    }\n",
       "\n",
       "    .dataframe thead th {\n",
       "        text-align: right;\n",
       "    }\n",
       "</style>\n",
       "<table border=\"1\" class=\"dataframe\">\n",
       "  <thead>\n",
       "    <tr style=\"text-align: right;\">\n",
       "      <th></th>\n",
       "      <th>Text</th>\n",
       "      <th>Likes</th>\n",
       "    </tr>\n",
       "  </thead>\n",
       "  <tbody>\n",
       "    <tr>\n",
       "      <th>0</th>\n",
       "      <td>Que sea un gran Martes, hoy reviso los perfile...</td>\n",
       "      <td>15</td>\n",
       "    </tr>\n",
       "    <tr>\n",
       "      <th>1</th>\n",
       "      <td>Amanecimos con buenas noticias 💪🏽Ya podemos es...</td>\n",
       "      <td>14</td>\n",
       "    </tr>\n",
       "    <tr>\n",
       "      <th>2</th>\n",
       "      <td>Listo, ya solo documento algunos ejemplos con ...</td>\n",
       "      <td>33</td>\n",
       "    </tr>\n",
       "  </tbody>\n",
       "</table>\n",
       "</div>"
      ],
      "text/plain": [
       "                                                Text  Likes\n",
       "0  Que sea un gran Martes, hoy reviso los perfile...     15\n",
       "1  Amanecimos con buenas noticias 💪🏽Ya podemos es...     14\n",
       "2  Listo, ya solo documento algunos ejemplos con ...     33"
      ]
     },
     "execution_count": 12,
     "metadata": {},
     "output_type": "execute_result"
    }
   ],
   "source": [
    "# Comprobamos el dataframe\n",
    "df.head(3)"
   ]
  },
  {
   "cell_type": "code",
   "execution_count": 13,
   "metadata": {},
   "outputs": [],
   "source": [
    "# Exportamos a un csv el dataframe\n",
    "df.to_csv('./data/cleanData.csv', index=False,header=False)"
   ]
  },
  {
   "cell_type": "markdown",
   "metadata": {},
   "source": [
    "Threads API: Data Science Process\n",
    "\n",
    "Material desarrollado por: Fernanda Ochoa.\n",
    "\n",
    "Contacto:\n",
    "* GitHub: [FernandaOchoa](https://github.com/FernandaOchoa)\n",
    "* Twitter: [@imonsh](https://twitter.com/imonsh)\n",
    "* Instagram: [fherz8a](https://instagram.com/fherz8a)\n",
    "* Linkedin: [Fernanda Ochoa](https://www.linkedin.com/in/fernandaochoa8/)"
   ]
  }
 ],
 "metadata": {
  "kernelspec": {
   "display_name": "Python 3",
   "language": "python",
   "name": "python3"
  },
  "language_info": {
   "codemirror_mode": {
    "name": "ipython",
    "version": 3
   },
   "file_extension": ".py",
   "mimetype": "text/x-python",
   "name": "python",
   "nbconvert_exporter": "python",
   "pygments_lexer": "ipython3",
   "version": "3.9.6"
  },
  "orig_nbformat": 4
 },
 "nbformat": 4,
 "nbformat_minor": 2
}
